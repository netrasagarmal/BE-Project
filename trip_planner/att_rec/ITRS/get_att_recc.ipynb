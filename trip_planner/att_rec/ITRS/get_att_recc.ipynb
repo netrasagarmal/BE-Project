{
 "cells": [
  {
   "cell_type": "code",
   "execution_count": 1,
   "metadata": {},
   "outputs": [],
   "source": [
    "#from attractions_recc import *\n",
    "from IPython.display import display\n",
    "import ipywidgets as w\n",
    "import pandas as pd\n",
    "import re"
   ]
  },
  {
   "cell_type": "code",
   "execution_count": 2,
   "metadata": {},
   "outputs": [
    {
     "name": "stdout",
     "output_type": "stream",
     "text": [
      "WARNING:tensorflow:From d:\\software install\\python38\\lib\\site-packages\\tensorflow\\python\\compat\\v2_compat.py:111: disable_resource_variables (from tensorflow.python.ops.variable_scope) is deprecated and will be removed in a future version.\n",
      "Instructions for updating:\n",
      "non-resource variables are not supported in the long term\n"
     ]
    }
   ],
   "source": [
    "from attractions_recc import *"
   ]
  },
  {
   "cell_type": "code",
   "execution_count": 3,
   "metadata": {},
   "outputs": [],
   "source": [
    "att_df = pd.read_json('etl/attractions.json',orient='records')"
   ]
  },
  {
   "cell_type": "markdown",
   "metadata": {},
   "source": [
    "## User details and Preferences"
   ]
  },
  {
   "cell_type": "code",
   "execution_count": 4,
   "metadata": {
    "cell_style": "center",
    "scrolled": false
   },
   "outputs": [],
   "source": [
    "'''uname = w.Text(description=\"User Name\")\n",
    "place = w.Text(value = 'Province',  description=\"Destination\")\n",
    "budget = w.IntRangeSlider(min=att_df.price.min(), max=att_df.price.max(),step=10,value=[att_df.price.min(),att_df.price.max()],description=\"Budget\")\n",
    "v1 = w.VBox([uname,place,budget])\n",
    "start = w.DatePicker(description='Start Date',disabled=False)\n",
    "end = w.DatePicker(description='End Date',disabled=False)\n",
    "v2 = w.VBox([start,end])\n",
    "out = w.HBox([v1,v2])\n",
    "display(out)'''\n",
    "uname = 'Sagar Patl'\n",
    "place = 'Ontario'\n",
    "budget = (5,900)\n",
    "start = '2022-01-25'\n",
    "end = '2022-01-28'"
   ]
  },
  {
   "cell_type": "code",
   "execution_count": 5,
   "metadata": {},
   "outputs": [
    {
     "name": "stdout",
     "output_type": "stream",
     "text": [
      "Sagar Patl\n",
      "Ontario\n",
      "2022-01-25\n",
      "2022-01-28\n",
      "(5, 900)\n"
     ]
    }
   ],
   "source": [
    "print(uname)\n",
    "print(place)\n",
    "print(start)\n",
    "print(end)\n",
    "print(budget)\n",
    "#print(budget.max)"
   ]
  },
  {
   "cell_type": "code",
   "execution_count": 6,
   "metadata": {
    "scrolled": false
   },
   "outputs": [],
   "source": [
    "'''category_df = att_df.groupby('category').size().reset_index().sort_values([0],ascending=False)[:20]\n",
    "categories = list(category_df.category.values)\n",
    "cat_rat = dict()\n",
    "def on_button_clicked(b):\n",
    "    if b.description in cat_rat:\n",
    "        return\n",
    "    print(b.description)\n",
    "    slider = w.IntSlider(min=0,max=5,step=1,description='Rate')\n",
    "    display(slider)\n",
    "    cat_rat[b.description] = slider\n",
    "    if(len(cat_rat) < 5):\n",
    "        print(\"Rate {x} more!\\n\".format(x=5-len(cat_rat)))\n",
    "    \n",
    "but_layout = w.Layout(width='100%', height='100px')\n",
    "but_items = [w.Button(description=c, layout=but_layout) for c in categories]\n",
    "on_clk = [item.on_click(on_button_clicked) for item in but_items]\n",
    "c1 = w.VBox([i for i in but_items[:4]])\n",
    "c2 = w.VBox([i for i in but_items[4:8]])\n",
    "c3 = w.VBox([i for i in but_items[8:12]])\n",
    "c4 = w.VBox([i for i in but_items[12:16]])\n",
    "c5 = w.VBox([i for i in but_items[16:]])\n",
    "buttons = w.HBox([c1,c2,c3,c4,c5])\n",
    "print(\"Select and rate atleast 5 categories and rate them:\")\n",
    "display(buttons)'''\n",
    "\n",
    "category_df = att_df.groupby('category').size().reset_index().sort_values([0],ascending=False)[:20]\n",
    "categories = list(category_df.category.values)\n",
    "cat_rat = dict()\n",
    "cat_rat = {\n",
    "    'private_&_custom_tours': 2, \n",
    "    'food,_wine_&_nightlife': 4, \n",
    "    'tours_&_sightseeing': 5, \n",
    "    'family_friendly': 3, \n",
    "    'day_trips_&_excursions': 2\n",
    "}"
   ]
  },
  {
   "cell_type": "code",
   "execution_count": 7,
   "metadata": {},
   "outputs": [
    {
     "name": "stdout",
     "output_type": "stream",
     "text": [
      "['private_&_custom_tours', 'tours_&_sightseeing', 'recommended_experiences', 'outdoor_activities', 'food,_wine_&_nightlife', 'family_friendly', 'cultural_&_theme_tours', 'walking_&_biking_tours', 'day_trips_&_excursions', 'water_sports', 'cruises,_sailing_&_water_tours', 'transfers_&_ground_transport', 'luxury_&_special_occasions', 'sightseeing_tickets_&_passes', 'multi-day_&_extended_tours', 'shore_excursions', 'air,_helicopter_&_balloon_tours', 'holiday_&_seasonal_tours', 'shows,_concerts_&_sports', 'classes_&_workshops']\n",
      "{'private_&_custom_tours': 2, 'food,_wine_&_nightlife': 4, 'tours_&_sightseeing': 5, 'family_friendly': 3, 'day_trips_&_excursions': 2}\n"
     ]
    }
   ],
   "source": [
    "print(categories)\n",
    "print(cat_rat)"
   ]
  },
  {
   "cell_type": "code",
   "execution_count": 8,
   "metadata": {},
   "outputs": [],
   "source": [
    "user_name = re.sub(' ','_',uname.lower())\n",
    "province = re.sub(' ','_',place.lower())\n",
    "(low,high) = tuple([float(i) for i in budget])\n",
    "begin_date = start\n",
    "end_date = end\n",
    "cat_rating = dict()\n",
    "for key, value in cat_rat.items():\n",
    "    cat_rating[key] = float(value)"
   ]
  },
  {
   "cell_type": "code",
   "execution_count": 9,
   "metadata": {},
   "outputs": [
    {
     "name": "stdout",
     "output_type": "stream",
     "text": [
      "sagar_patl\n",
      "ontario\n",
      "2022-01-25\n",
      "2022-01-28\n",
      "{'private_&_custom_tours': 2.0, 'food,_wine_&_nightlife': 4.0, 'tours_&_sightseeing': 5.0, 'family_friendly': 3.0, 'day_trips_&_excursions': 2.0}\n"
     ]
    }
   ],
   "source": [
    "print(user_name)\n",
    "print(province)\n",
    "print(begin_date)\n",
    "print(end_date)\n",
    "print(cat_rating)"
   ]
  },
  {
   "cell_type": "markdown",
   "metadata": {},
   "source": [
    "## Model recommendation and filtering"
   ]
  },
  {
   "cell_type": "code",
   "execution_count": 10,
   "metadata": {
    "scrolled": false
   },
   "outputs": [
    {
     "name": "stdout",
     "output_type": "stream",
     "text": [
      "Reading the data\n",
      "Extracting num_rows from ratings\n",
      "Preprocessing the dataset\n",
      "Similar User: 248\n",
      "Model restored\n"
     ]
    }
   ],
   "source": [
    "filename, user, rbm_att = get_recc(att_df, cat_rating)\n",
    "\n",
    "with_url = filter_df(filename, user, low, high, province, att_df)"
   ]
  },
  {
   "cell_type": "code",
   "execution_count": 11,
   "metadata": {},
   "outputs": [
    {
     "name": "stdout",
     "output_type": "stream",
     "text": [
      "e50_r40000_lr0.01_hu128_bs16\n",
      "248\n",
      "       user_id  attraction_id  rbm_att_id  rating\n",
      "0            0             74          48       5\n",
      "1           20             74          48       5\n",
      "2           34             74          48       5\n",
      "3           57             74          48       5\n",
      "4           96             74          48       5\n",
      "...        ...            ...         ...     ...\n",
      "33920    12932             59          41       5\n",
      "33921    13005           1821         841       5\n",
      "33922    13038           1598         723       1\n",
      "33923    13071           3050        1279       5\n",
      "33924    13092           3230        1300       5\n",
      "\n",
      "[33925 rows x 4 columns]\n",
      "                                                   name  \\\n",
      "5     niagara_falls_in_one_day:_deluxe_sightseeing_t...   \n",
      "1310  best_of_niagara_falls_tour_from_niagara_falls,...   \n",
      "2258                      niagara_falls_helicopter_tour   \n",
      "3285                niagara_falls_day_tour_from_toronto   \n",
      "2247  niagara_falls_day_and_evening_tour_with_boat_c...   \n",
      "...                                                 ...   \n",
      "237   talkwalk,_the_inside_job_-_the_winter_walking_...   \n",
      "551          toronto_to_niagara_falls_day_trip_by_train   \n",
      "751       3.5-hour_ossington_strip_food_tour_in_toronto   \n",
      "2457                   thousand_islands_helicopter_tour   \n",
      "609              afternoon_delight_wine_and_cheese_tour   \n",
      "\n",
      "                        category           city   latitude   longitude  \\\n",
      "5     featured_tours_and_tickets  niagara_falls  43.102436  -78.961639   \n",
      "1310         tours_&_sightseeing  niagara_falls  43.085712  -79.082428   \n",
      "2258             family_friendly  niagara_falls  43.118603  -79.074387   \n",
      "3285     recommended_experiences        toronto  43.703075  -79.406387   \n",
      "2247             family_friendly        toronto  43.683743  -79.592911   \n",
      "...                          ...            ...        ...         ...   \n",
      "237       cultural_&_theme_tours        toronto  56.130367 -106.346771   \n",
      "551       day_trips_&_excursions        toronto  40.751976  -73.986603   \n",
      "751       food,_wine_&_nightlife        toronto  43.659622  -79.347282   \n",
      "2457             family_friendly      gananoque  44.347401  -76.175171   \n",
      "609       food,_wine_&_nightlife  niagara_falls  43.195747  -79.156967   \n",
      "\n",
      "       price province  rating     score  \\\n",
      "5     204.42  ontario     5.0  2.274035   \n",
      "1310  158.00  ontario     5.0  1.929772   \n",
      "2258  145.00  ontario     4.5  1.685635   \n",
      "3285   94.92  ontario     5.0  1.585524   \n",
      "2247  169.00  ontario     4.5  1.478876   \n",
      "...      ...      ...     ...       ...   \n",
      "237    40.00  ontario     5.0  0.000577   \n",
      "551   489.41  ontario     5.0  0.000573   \n",
      "751   189.00  ontario     1.0  0.000492   \n",
      "2457  114.84  ontario     5.0  0.000456   \n",
      "609    89.27  ontario     5.0  0.000256   \n",
      "\n",
      "                                             attraction  \n",
      "5     https://tripadvisor.ca/AttractionProductDetail...  \n",
      "1310  https://tripadvisor.ca/AttractionProductDetail...  \n",
      "2258  https://tripadvisor.ca/AttractionProductDetail...  \n",
      "3285  https://tripadvisor.ca/AttractionProductDetail...  \n",
      "2247  https://tripadvisor.ca/AttractionProductDetail...  \n",
      "...                                                 ...  \n",
      "237   https://tripadvisor.ca/AttractionProductDetail...  \n",
      "551   https://tripadvisor.ca/AttractionProductDetail...  \n",
      "751   https://tripadvisor.ca/AttractionProductDetail...  \n",
      "2457  https://tripadvisor.ca/AttractionProductDetail...  \n",
      "609   https://tripadvisor.ca/AttractionProductDetail...  \n",
      "\n",
      "[360 rows x 10 columns]\n"
     ]
    }
   ],
   "source": [
    "print(filename)\n",
    "print(user)\n",
    "print(rbm_att)\n",
    "print(with_url)"
   ]
  },
  {
   "cell_type": "code",
   "execution_count": 12,
   "metadata": {},
   "outputs": [
    {
     "name": "stdout",
     "output_type": "stream",
     "text": [
      "\n",
      "Item no.: 1 --> Item name = niagara_falls_in_one_day:_deluxe_sightseeing_tour_of_american_and_canadian_sides\n",
      "Evaluating...\n",
      "\n",
      "Item no.: 1 --> Item name = niagara_falls_canadian_side_tour_and_maid_of_the_mist_boat_ride\n",
      "Evaluating...\n",
      "Starting Download...\n",
      "\n",
      "Errors: 0\n",
      "\n",
      "\n",
      "Item no.: 1 --> Item name = 6-hour_niagara_falls_canadian_side_evening_illuminations_tour\n",
      "Evaluating...\n",
      "Starting Download...\n",
      "\n",
      "Errors: 0\n",
      "\n",
      "\n",
      "Item no.: 1 --> Item name = epic_toronto_night_tour\n",
      "Evaluating...\n",
      "Starting Download...\n",
      "\n",
      "Errors: 0\n",
      "\n",
      "\n",
      "Item no.: 1 --> Item name = best_of_niagara_falls_tour_from_niagara_falls\n",
      "Evaluating...\n",
      "Starting Download...\n",
      "\n",
      "Errors: 0\n",
      "\n",
      "\n",
      "Item no.: 1 --> Item name = ultimate_toronto_tour\n",
      "Evaluating...\n",
      "Starting Download...\n",
      "\n",
      "Errors: 0\n",
      "\n",
      "\n",
      "Item no.: 1 --> Item name = niagara_falls_night_tour_with_dinner_and_cruise\n",
      "Evaluating...\n",
      "Starting Download...\n",
      "\n",
      "Errors: 0\n",
      "\n",
      "\n",
      "Item no.: 1 --> Item name = day_and_night_tour_of_niagara_falls\n",
      "Evaluating...\n",
      "Starting Download...\n",
      "\n",
      "Errors: 0\n",
      "\n",
      "\n",
      "Item no.: 1 --> Item name = niagara_falls_helicopter_tour\n",
      "Evaluating...\n",
      "Starting Download...\n",
      "\n",
      "Errors: 0\n",
      "\n",
      "\n",
      "Item no.: 1 --> Item name = bird_kingdom_all_day_admission_ticket\n",
      "Evaluating...\n",
      "Starting Download...\n",
      "\n",
      "Errors: 0\n",
      "\n",
      "\n",
      "Item no.: 1 --> Item name = friday_night_wine_and_cheese_sail_in_toronto\n",
      "Evaluating...\n",
      "Starting Download...\n",
      "\n",
      "Errors: 0\n",
      "\n",
      "\n",
      "Item no.: 1 --> Item name = toronto_islands_evening_bike_tour\n",
      "Evaluating...\n",
      "Starting Download...\n",
      "\n",
      "Errors: 0\n",
      "\n"
     ]
    }
   ],
   "source": [
    "#%%capture\n",
    "final = dict()\n",
    "final['timeofday'] = []\n",
    "final['image'] = []\n",
    "final['name'] = []\n",
    "final['location'] = []\n",
    "final['price'] = []\n",
    "final['rating'] = []\n",
    "final['category'] = []\n",
    "\n",
    "for i in range(1,4):\n",
    "    for j in range(2):\n",
    "        final['timeofday'].append('Morning')\n",
    "    for j in range(2):\n",
    "        final['timeofday'].append('Evening')\n",
    "\n",
    "for i in range(len(final['timeofday'])): \n",
    "    if i%4 == 0: \n",
    "        final = top_recc(with_url, final)\n",
    "    else:\n",
    "        final = find_closest(with_url, final['location'][-1],final['timeofday'][i], final)"
   ]
  },
  {
   "cell_type": "code",
   "execution_count": 13,
   "metadata": {},
   "outputs": [
    {
     "name": "stdout",
     "output_type": "stream",
     "text": [
      "{\n",
      "    \"timeofday\": [\n",
      "        \"Morning\",\n",
      "        \"Morning\",\n",
      "        \"Evening\",\n",
      "        \"Evening\",\n",
      "        \"Morning\",\n",
      "        \"Morning\",\n",
      "        \"Evening\",\n",
      "        \"Evening\",\n",
      "        \"Morning\",\n",
      "        \"Morning\",\n",
      "        \"Evening\",\n",
      "        \"Evening\"\n",
      "    ],\n",
      "    \"image\": [\n",
      "        \"downloads\\\\noimage.jpg\",\n",
      "        \"downloads/niagara_falls_canadian_side_tour_and_maid_of_the_mist_boat_ride\\\\1. niagara-falls-canadian.jpg\",\n",
      "        \"downloads/6-hour_niagara_falls_canadian_side_evening_illuminations_tour\\\\1. 6-hour-niagara-falls.jpg\",\n",
      "        \"downloads/epic_toronto_night_tour\\\\1. epic-toronto-night-tour.jpg\",\n",
      "        \"downloads/best_of_niagara_falls_tour_from_niagara_falls\\\\1. best-of-niagara-falls-tour-from-niagara-falls-ontario-in-niagara-falls-190431.jpg\",\n",
      "        \"downloads/ultimate_toronto_tour\\\\1. ultimate-toronto-tour.jpg\",\n",
      "        \"downloads/niagara_falls_night_tour_with_dinner_and_cruise\\\\1. niagara-falls-night-tour-with-dinner-and-cruise-in-niagara-falls-218806.jpg\",\n",
      "        \"downloads/day_and_night_tour_of_niagara_falls\\\\1. day-and-night-tour-of-niagara-falls-in-niagara-falls-193929.jpg\",\n",
      "        \"downloads/niagara_falls_helicopter_tour\\\\1. niagara-falls-heliopter_0.jpg\",\n",
      "        \"downloads/bird_kingdom_all_day_admission_ticket\\\\1. bird-kingdom-all-day.jpg\",\n",
      "        \"downloads/friday_night_wine_and_cheese_sail_in_toronto\\\\1. friday-night-wine-and-cheese-sail-in-toronto-in-toronto-188863.jpg\",\n",
      "        \"downloads/toronto_islands_evening_bike_tour\\\\1. toronto-islands-evening-bike-tour-in-toronto-179259.jpg\"\n",
      "    ],\n",
      "    \"name\": [\n",
      "        \"niagara_falls_in_one_day:_deluxe_sightseeing_tour_of_american_and_canadian_sides\",\n",
      "        \"niagara_falls_canadian_side_tour_and_maid_of_the_mist_boat_ride\",\n",
      "        \"6-hour_niagara_falls_canadian_side_evening_illuminations_tour\",\n",
      "        \"epic_toronto_night_tour\",\n",
      "        \"best_of_niagara_falls_tour_from_niagara_falls,_ontario\",\n",
      "        \"ultimate_toronto_tour\",\n",
      "        \"niagara_falls_night_tour_with_dinner_and_cruise\",\n",
      "        \"day_and_night_tour_of_niagara_falls\",\n",
      "        \"niagara_falls_helicopter_tour\",\n",
      "        \"bird_kingdom_all_day_admission_ticket\",\n",
      "        \"friday_night_wine_and_cheese_sail_in_toronto\",\n",
      "        \"toronto_islands_evening_bike_tour\"\n",
      "    ],\n",
      "    \"location\": [\n",
      "        [\n",
      "            43.1024360657,\n",
      "            -78.9616394043\n",
      "        ],\n",
      "        [\n",
      "            43.1024360657,\n",
      "            -78.9616394043\n",
      "        ],\n",
      "        [\n",
      "            43.0823516846,\n",
      "            -79.0411376953\n",
      "        ],\n",
      "        [\n",
      "            43.0857124329,\n",
      "            -79.0824279785\n",
      "        ],\n",
      "        [\n",
      "            43.0857124329,\n",
      "            -79.0824279785\n",
      "        ],\n",
      "        [\n",
      "            43.0857124329,\n",
      "            -79.0824279785\n",
      "        ],\n",
      "        [\n",
      "            43.0857124329,\n",
      "            -79.0824279785\n",
      "        ],\n",
      "        [\n",
      "            43.0857124329,\n",
      "            -79.0824279785\n",
      "        ],\n",
      "        [\n",
      "            43.1186027527,\n",
      "            -79.0743865967\n",
      "        ],\n",
      "        [\n",
      "            43.0926246643,\n",
      "            -79.0687103271\n",
      "        ],\n",
      "        [\n",
      "            43.6375465393,\n",
      "            -79.3912353516\n",
      "        ],\n",
      "        [\n",
      "            43.6541595459,\n",
      "            -79.3904876709\n",
      "        ]\n",
      "    ],\n",
      "    \"price\": [\n",
      "        204.42,\n",
      "        149.89,\n",
      "        149.89,\n",
      "        89.0,\n",
      "        158.0,\n",
      "        175.0,\n",
      "        189.0,\n",
      "        300.0,\n",
      "        145.0,\n",
      "        20.28,\n",
      "        219.99,\n",
      "        96.05\n",
      "    ],\n",
      "    \"rating\": [\n",
      "        5.0,\n",
      "        5.0,\n",
      "        5.0,\n",
      "        4.5,\n",
      "        5.0,\n",
      "        5.0,\n",
      "        4.5,\n",
      "        5.0,\n",
      "        4.5,\n",
      "        4.5,\n",
      "        5.0,\n",
      "        5.0\n",
      "    ],\n",
      "    \"category\": [\n",
      "        \"featured_tours_and_tickets\",\n",
      "        \"tours_&_sightseeing\",\n",
      "        \"cultural_&_theme_tours\",\n",
      "        \"tours_&_sightseeing\",\n",
      "        \"tours_&_sightseeing\",\n",
      "        \"tours_&_sightseeing\",\n",
      "        \"cruises,_sailing_&_water_tours\",\n",
      "        \"tours_&_sightseeing\",\n",
      "        \"family_friendly\",\n",
      "        \"outdoor_activities\",\n",
      "        \"cruises,_sailing_&_water_tours\",\n",
      "        \"walking_&_biking_tours\"\n",
      "    ]\n",
      "}\n"
     ]
    }
   ],
   "source": [
    "#print(final)\n",
    "import json\n",
    "json_object = json.dumps(final, indent = 4) \n",
    "print(json_object)\n",
    "\n",
    "#with open(\"sample_final.json\", \"w\") as outfile:\n",
    "    #json.dump(final, outfile)"
   ]
  },
  {
   "cell_type": "markdown",
   "metadata": {},
   "source": [
    "## Final Output"
   ]
  },
  {
   "cell_type": "code",
   "execution_count": 24,
   "metadata": {},
   "outputs": [
    {
     "name": "stdout",
     "output_type": "stream",
     "text": [
      "[VBox(children=(HBox(children=(VBox(children=(HTML(value=\"<b><font color='orange'>MORNING</b>\"), HTML(value=\"<b><font color='purple'>Recommendation 1:</b>\"), Image(value=b'\\xff\\xd8\\xff\\xe0\\x00\\x10JFIF\\x00\\x01\\x01\\x01\\x00H\\x00H\\x00\\x00\\xff\\xdb\\x00C\\x00\\x05\\x03\\x04\\x04\\x04\\...', format='jpg', height='400', width='300'), HTML(value=\"<b><font color='black'>Niagara falls in one day: deluxe sightseeing tour of american and canadian sides</b>\", description='NAME'), HTML(value=\"<b><font color='black'>Featured tours and tickets</b>\", description='CATEGORY'), HTML(value=\"<b><font color='black'>(43.1024360657,-78.9616394043)</b>\", description='LOCATION'), HTML(value=\"<b><font color='black'>204.42</b>\", description='PRICE'), HTML(value=\"<b><font color='black'>5.0</b>\", description='RATING')), layout=Layout(display='flex', flex_flow='column', justify_content='space-between', width='75%')), VBox(children=(HTML(value=\"<b><font color='orange'>EVENING</b>\"), HTML(value=\"<b><font color='purple'>Recommendation 1:</b>\"), Image(value=b'\\xff\\xd8\\xff\\xe0\\x00\\x10JFIF\\x00\\x01\\x01\\x01\\x00H\\x00H\\x00\\x00\\xff\\xdb\\x00C\\x00\\x05\\x03\\x04\\x04\\x04\\...', format='jpg', height='400', width='300'), HTML(value=\"<b><font color='black'>6-hour niagara falls canadian side evening illuminations tour</b>\", description='NAME'), HTML(value=\"<b><font color='black'>Cultural & theme tours</b>\", description='CATEGORY'), HTML(value=\"<b><font color='black'>(43.0823516846,-79.0411376953)</b>\", description='LOCATION'), HTML(value=\"<b><font color='black'>149.89</b>\", description='PRICE'), HTML(value=\"<b><font color='black'>5.0</b>\", description='RATING')), layout=Layout(display='flex', flex_flow='column', justify_content='space-between', width='75%'))), layout=Layout(align_items='stretch', display='flex', flex_flow='row', justify_content='space-between')), HBox(children=(VBox(children=(HTML(value=\"<b><font color='purple'>Recommendation 2:</b>\"), Image(value=b'\\xff\\xd8\\xff\\xe0\\x00\\x10JFIF\\x00\\x01\\x01\\x01\\x00H\\x00H\\x00\\x00\\xff\\xdb\\x00C\\x00\\x05\\x03\\x04\\x04\\x04\\...', format='jpg', height='400', width='300'), HTML(value=\"<b><font color='black'>Niagara falls canadian side tour and maid of the mist boat ride</b>\", description='NAME'), HTML(value=\"<b><font color='black'>Tours & sightseeing</b>\", description='CATEGORY'), HTML(value=\"<b><font color='black'>(43.1024360657,-78.9616394043)</b>\", description='LOCATION'), HTML(value=\"<b><font color='black'>149.89</b>\", description='PRICE'), HTML(value=\"<b><font color='black'>5.0</b>\", description='RATING')), layout=Layout(display='flex', flex_flow='column', justify_content='space-between', width='75%')), VBox(children=(HTML(value=\"<b><font color='purple'>Recommendation 2:</b>\"), Image(value=b'\\xff\\xd8\\xff\\xe0\\x00\\x10JFIF\\x00\\x01\\x01\\x01\\x00H\\x00H\\x00\\x00\\xff\\xdb\\x00C\\x00\\x05\\x03\\x04\\x04\\x04\\...', format='jpg', height='400', width='300'), HTML(value=\"<b><font color='black'>Epic toronto night tour</b>\", description='NAME'), HTML(value=\"<b><font color='black'>Tours & sightseeing</b>\", description='CATEGORY'), HTML(value=\"<b><font color='black'>(43.0857124329,-79.0824279785)</b>\", description='LOCATION'), HTML(value=\"<b><font color='black'>89.0</b>\", description='PRICE'), HTML(value=\"<b><font color='black'>4.5</b>\", description='RATING')), layout=Layout(display='flex', flex_flow='column', justify_content='space-between', width='75%'))), layout=Layout(align_items='stretch', display='flex', flex_flow='row', justify_content='space-between')))), VBox(children=(HBox(children=(VBox(children=(HTML(value=\"<b><font color='orange'>MORNING</b>\"), HTML(value=\"<b><font color='purple'>Recommendation 1:</b>\"), Image(value=b'\\xff\\xd8\\xff\\xe0\\x00\\x10JFIF\\x00\\x01\\x01\\x01\\x00H\\x00H\\x00\\x00\\xff\\xdb\\x00C\\x00\\x08\\x06\\x06\\x07\\x06\\...', format='jpg', height='400', width='300'), HTML(value=\"<b><font color='black'>Best of niagara falls tour from niagara falls, ontario</b>\", description='NAME'), HTML(value=\"<b><font color='black'>Tours & sightseeing</b>\", description='CATEGORY'), HTML(value=\"<b><font color='black'>(43.0857124329,-79.0824279785)</b>\", description='LOCATION'), HTML(value=\"<b><font color='black'>158.0</b>\", description='PRICE'), HTML(value=\"<b><font color='black'>5.0</b>\", description='RATING')), layout=Layout(display='flex', flex_flow='column', justify_content='space-between', width='75%')), VBox(children=(HTML(value=\"<b><font color='orange'>EVENING</b>\"), HTML(value=\"<b><font color='purple'>Recommendation 1:</b>\"), Image(value=b'\\xff\\xd8\\xff\\xe0\\x00\\x10JFIF\\x00\\x01\\x01\\x01\\x00H\\x00H\\x00\\x00\\xff\\xdb\\x00C\\x00\\x08\\x06\\x06\\x07\\x06\\...', format='jpg', height='400', width='300'), HTML(value=\"<b><font color='black'>Niagara falls night tour with dinner and cruise</b>\", description='NAME'), HTML(value=\"<b><font color='black'>Cruises, sailing & water tours</b>\", description='CATEGORY'), HTML(value=\"<b><font color='black'>(43.0857124329,-79.0824279785)</b>\", description='LOCATION'), HTML(value=\"<b><font color='black'>189.0</b>\", description='PRICE'), HTML(value=\"<b><font color='black'>4.5</b>\", description='RATING')), layout=Layout(display='flex', flex_flow='column', justify_content='space-between', width='75%'))), layout=Layout(align_items='stretch', display='flex', flex_flow='row', justify_content='space-between')), HBox(children=(VBox(children=(HTML(value=\"<b><font color='purple'>Recommendation 2:</b>\"), Image(value=b'\\xff\\xd8\\xff\\xe0\\x00\\x10JFIF\\x00\\x01\\x01\\x01\\x00H\\x00H\\x00\\x00\\xff\\xdb\\x00C\\x00\\x05\\x03\\x04\\x04\\x04\\...', format='jpg', height='400', width='300'), HTML(value=\"<b><font color='black'>Ultimate toronto tour</b>\", description='NAME'), HTML(value=\"<b><font color='black'>Tours & sightseeing</b>\", description='CATEGORY'), HTML(value=\"<b><font color='black'>(43.0857124329,-79.0824279785)</b>\", description='LOCATION'), HTML(value=\"<b><font color='black'>175.0</b>\", description='PRICE'), HTML(value=\"<b><font color='black'>5.0</b>\", description='RATING')), layout=Layout(display='flex', flex_flow='column', justify_content='space-between', width='75%')), VBox(children=(HTML(value=\"<b><font color='purple'>Recommendation 2:</b>\"), Image(value=b'\\xff\\xd8\\xff\\xe0\\x00\\x10JFIF\\x00\\x01\\x01\\x01\\x00H\\x00H\\x00\\x00\\xff\\xdb\\x00C\\x00\\x08\\x06\\x06\\x07\\x06\\...', format='jpg', height='400', width='300'), HTML(value=\"<b><font color='black'>Day and night tour of niagara falls</b>\", description='NAME'), HTML(value=\"<b><font color='black'>Tours & sightseeing</b>\", description='CATEGORY'), HTML(value=\"<b><font color='black'>(43.0857124329,-79.0824279785)</b>\", description='LOCATION'), HTML(value=\"<b><font color='black'>300.0</b>\", description='PRICE'), HTML(value=\"<b><font color='black'>5.0</b>\", description='RATING')), layout=Layout(display='flex', flex_flow='column', justify_content='space-between', width='75%'))), layout=Layout(align_items='stretch', display='flex', flex_flow='row', justify_content='space-between')))), VBox(children=(HBox(children=(VBox(children=(HTML(value=\"<b><font color='orange'>MORNING</b>\"), HTML(value=\"<b><font color='purple'>Recommendation 1:</b>\"), Image(value=b'\\xff\\xd8\\xff\\xe0\\x00\\x10JFIF\\x00\\x01\\x01\\x01\\x00\\x01\\x00\\x01\\x00\\x00\\xff\\xe1\\x00\\x18Exif\\x00\\x00II*\\...', format='jpg', height='400', width='300'), HTML(value=\"<b><font color='black'>Niagara falls helicopter tour</b>\", description='NAME'), HTML(value=\"<b><font color='black'>Family friendly</b>\", description='CATEGORY'), HTML(value=\"<b><font color='black'>(43.1186027527,-79.0743865967)</b>\", description='LOCATION'), HTML(value=\"<b><font color='black'>145.0</b>\", description='PRICE'), HTML(value=\"<b><font color='black'>4.5</b>\", description='RATING')), layout=Layout(display='flex', flex_flow='column', justify_content='space-between', width='75%')), VBox(children=(HTML(value=\"<b><font color='orange'>EVENING</b>\"), HTML(value=\"<b><font color='purple'>Recommendation 1:</b>\"), Image(value=b'\\xff\\xd8\\xff\\xe0\\x00\\x10JFIF\\x00\\x01\\x01\\x01\\x00H\\x00H\\x00\\x00\\xff\\xdb\\x00C\\x00\\x08\\x06\\x06\\x07\\x06\\...', format='jpg', height='400', width='300'), HTML(value=\"<b><font color='black'>Friday night wine and cheese sail in toronto</b>\", description='NAME'), HTML(value=\"<b><font color='black'>Cruises, sailing & water tours</b>\", description='CATEGORY'), HTML(value=\"<b><font color='black'>(43.6375465393,-79.3912353516)</b>\", description='LOCATION'), HTML(value=\"<b><font color='black'>219.99</b>\", description='PRICE'), HTML(value=\"<b><font color='black'>5.0</b>\", description='RATING')), layout=Layout(display='flex', flex_flow='column', justify_content='space-between', width='75%'))), layout=Layout(align_items='stretch', display='flex', flex_flow='row', justify_content='space-between')), HBox(children=(VBox(children=(HTML(value=\"<b><font color='purple'>Recommendation 2:</b>\"), Image(value=b'\\xff\\xd8\\xff\\xe0\\x00\\x10JFIF\\x00\\x01\\x01\\x01\\x00H\\x00H\\x00\\x00\\xff\\xdb\\x00C\\x00\\x05\\x03\\x04\\x04\\x04\\...', format='jpg', height='400', width='300'), HTML(value=\"<b><font color='black'>Bird kingdom all day admission ticket</b>\", description='NAME'), HTML(value=\"<b><font color='black'>Outdoor activities</b>\", description='CATEGORY'), HTML(value=\"<b><font color='black'>(43.0926246643,-79.0687103271)</b>\", description='LOCATION'), HTML(value=\"<b><font color='black'>20.28</b>\", description='PRICE'), HTML(value=\"<b><font color='black'>4.5</b>\", description='RATING')), layout=Layout(display='flex', flex_flow='column', justify_content='space-between', width='75%')), VBox(children=(HTML(value=\"<b><font color='purple'>Recommendation 2:</b>\"), Image(value=b'\\xff\\xd8\\xff\\xe0\\x00\\x10JFIF\\x00\\x01\\x01\\x01\\x00H\\x00H\\x00\\x00\\xff\\xdb\\x00C\\x00\\x08\\x06\\x06\\x07\\x06\\...', format='jpg', height='400', width='300'), HTML(value=\"<b><font color='black'>Toronto islands evening bike tour</b>\", description='NAME'), HTML(value=\"<b><font color='black'>Walking & biking tours</b>\", description='CATEGORY'), HTML(value=\"<b><font color='black'>(43.6541595459,-79.3904876709)</b>\", description='LOCATION'), HTML(value=\"<b><font color='black'>96.05</b>\", description='PRICE'), HTML(value=\"<b><font color='black'>5.0</b>\", description='RATING')), layout=Layout(display='flex', flex_flow='column', justify_content='space-between', width='75%'))), layout=Layout(align_items='stretch', display='flex', flex_flow='row', justify_content='space-between'))))]\n",
      "Tab(children=(VBox(children=(HBox(children=(VBox(children=(HTML(value=\"<b><font color='orange'>MORNING</b>\"), HTML(value=\"<b><font color='purple'>Recommendation 1:</b>\"), Image(value=b'\\xff\\xd8\\xff\\xe0\\x00\\x10JFIF\\x00\\x01\\x01\\x01\\x00H\\x00H\\x00\\x00\\xff\\xdb\\x00C\\x00\\x05\\x03\\x04\\x04\\x04\\...', format='jpg', height='400', width='300'), HTML(value=\"<b><font color='black'>Niagara falls in one day: deluxe sightseeing tour of american and canadian sides</b>\", description='NAME'), HTML(value=\"<b><font color='black'>Featured tours and tickets</b>\", description='CATEGORY'), HTML(value=\"<b><font color='black'>(43.1024360657,-78.9616394043)</b>\", description='LOCATION'), HTML(value=\"<b><font color='black'>204.42</b>\", description='PRICE'), HTML(value=\"<b><font color='black'>5.0</b>\", description='RATING')), layout=Layout(display='flex', flex_flow='column', justify_content='space-between', width='75%')), VBox(children=(HTML(value=\"<b><font color='orange'>EVENING</b>\"), HTML(value=\"<b><font color='purple'>Recommendation 1:</b>\"), Image(value=b'\\xff\\xd8\\xff\\xe0\\x00\\x10JFIF\\x00\\x01\\x01\\x01\\x00H\\x00H\\x00\\x00\\xff\\xdb\\x00C\\x00\\x05\\x03\\x04\\x04\\x04\\...', format='jpg', height='400', width='300'), HTML(value=\"<b><font color='black'>6-hour niagara falls canadian side evening illuminations tour</b>\", description='NAME'), HTML(value=\"<b><font color='black'>Cultural & theme tours</b>\", description='CATEGORY'), HTML(value=\"<b><font color='black'>(43.0823516846,-79.0411376953)</b>\", description='LOCATION'), HTML(value=\"<b><font color='black'>149.89</b>\", description='PRICE'), HTML(value=\"<b><font color='black'>5.0</b>\", description='RATING')), layout=Layout(display='flex', flex_flow='column', justify_content='space-between', width='75%'))), layout=Layout(align_items='stretch', display='flex', flex_flow='row', justify_content='space-between')), HBox(children=(VBox(children=(HTML(value=\"<b><font color='purple'>Recommendation 2:</b>\"), Image(value=b'\\xff\\xd8\\xff\\xe0\\x00\\x10JFIF\\x00\\x01\\x01\\x01\\x00H\\x00H\\x00\\x00\\xff\\xdb\\x00C\\x00\\x05\\x03\\x04\\x04\\x04\\...', format='jpg', height='400', width='300'), HTML(value=\"<b><font color='black'>Niagara falls canadian side tour and maid of the mist boat ride</b>\", description='NAME'), HTML(value=\"<b><font color='black'>Tours & sightseeing</b>\", description='CATEGORY'), HTML(value=\"<b><font color='black'>(43.1024360657,-78.9616394043)</b>\", description='LOCATION'), HTML(value=\"<b><font color='black'>149.89</b>\", description='PRICE'), HTML(value=\"<b><font color='black'>5.0</b>\", description='RATING')), layout=Layout(display='flex', flex_flow='column', justify_content='space-between', width='75%')), VBox(children=(HTML(value=\"<b><font color='purple'>Recommendation 2:</b>\"), Image(value=b'\\xff\\xd8\\xff\\xe0\\x00\\x10JFIF\\x00\\x01\\x01\\x01\\x00H\\x00H\\x00\\x00\\xff\\xdb\\x00C\\x00\\x05\\x03\\x04\\x04\\x04\\...', format='jpg', height='400', width='300'), HTML(value=\"<b><font color='black'>Epic toronto night tour</b>\", description='NAME'), HTML(value=\"<b><font color='black'>Tours & sightseeing</b>\", description='CATEGORY'), HTML(value=\"<b><font color='black'>(43.0857124329,-79.0824279785)</b>\", description='LOCATION'), HTML(value=\"<b><font color='black'>89.0</b>\", description='PRICE'), HTML(value=\"<b><font color='black'>4.5</b>\", description='RATING')), layout=Layout(display='flex', flex_flow='column', justify_content='space-between', width='75%'))), layout=Layout(align_items='stretch', display='flex', flex_flow='row', justify_content='space-between')))), VBox(children=(HBox(children=(VBox(children=(HTML(value=\"<b><font color='orange'>MORNING</b>\"), HTML(value=\"<b><font color='purple'>Recommendation 1:</b>\"), Image(value=b'\\xff\\xd8\\xff\\xe0\\x00\\x10JFIF\\x00\\x01\\x01\\x01\\x00H\\x00H\\x00\\x00\\xff\\xdb\\x00C\\x00\\x08\\x06\\x06\\x07\\x06\\...', format='jpg', height='400', width='300'), HTML(value=\"<b><font color='black'>Best of niagara falls tour from niagara falls, ontario</b>\", description='NAME'), HTML(value=\"<b><font color='black'>Tours & sightseeing</b>\", description='CATEGORY'), HTML(value=\"<b><font color='black'>(43.0857124329,-79.0824279785)</b>\", description='LOCATION'), HTML(value=\"<b><font color='black'>158.0</b>\", description='PRICE'), HTML(value=\"<b><font color='black'>5.0</b>\", description='RATING')), layout=Layout(display='flex', flex_flow='column', justify_content='space-between', width='75%')), VBox(children=(HTML(value=\"<b><font color='orange'>EVENING</b>\"), HTML(value=\"<b><font color='purple'>Recommendation 1:</b>\"), Image(value=b'\\xff\\xd8\\xff\\xe0\\x00\\x10JFIF\\x00\\x01\\x01\\x01\\x00H\\x00H\\x00\\x00\\xff\\xdb\\x00C\\x00\\x08\\x06\\x06\\x07\\x06\\...', format='jpg', height='400', width='300'), HTML(value=\"<b><font color='black'>Niagara falls night tour with dinner and cruise</b>\", description='NAME'), HTML(value=\"<b><font color='black'>Cruises, sailing & water tours</b>\", description='CATEGORY'), HTML(value=\"<b><font color='black'>(43.0857124329,-79.0824279785)</b>\", description='LOCATION'), HTML(value=\"<b><font color='black'>189.0</b>\", description='PRICE'), HTML(value=\"<b><font color='black'>4.5</b>\", description='RATING')), layout=Layout(display='flex', flex_flow='column', justify_content='space-between', width='75%'))), layout=Layout(align_items='stretch', display='flex', flex_flow='row', justify_content='space-between')), HBox(children=(VBox(children=(HTML(value=\"<b><font color='purple'>Recommendation 2:</b>\"), Image(value=b'\\xff\\xd8\\xff\\xe0\\x00\\x10JFIF\\x00\\x01\\x01\\x01\\x00H\\x00H\\x00\\x00\\xff\\xdb\\x00C\\x00\\x05\\x03\\x04\\x04\\x04\\...', format='jpg', height='400', width='300'), HTML(value=\"<b><font color='black'>Ultimate toronto tour</b>\", description='NAME'), HTML(value=\"<b><font color='black'>Tours & sightseeing</b>\", description='CATEGORY'), HTML(value=\"<b><font color='black'>(43.0857124329,-79.0824279785)</b>\", description='LOCATION'), HTML(value=\"<b><font color='black'>175.0</b>\", description='PRICE'), HTML(value=\"<b><font color='black'>5.0</b>\", description='RATING')), layout=Layout(display='flex', flex_flow='column', justify_content='space-between', width='75%')), VBox(children=(HTML(value=\"<b><font color='purple'>Recommendation 2:</b>\"), Image(value=b'\\xff\\xd8\\xff\\xe0\\x00\\x10JFIF\\x00\\x01\\x01\\x01\\x00H\\x00H\\x00\\x00\\xff\\xdb\\x00C\\x00\\x08\\x06\\x06\\x07\\x06\\...', format='jpg', height='400', width='300'), HTML(value=\"<b><font color='black'>Day and night tour of niagara falls</b>\", description='NAME'), HTML(value=\"<b><font color='black'>Tours & sightseeing</b>\", description='CATEGORY'), HTML(value=\"<b><font color='black'>(43.0857124329,-79.0824279785)</b>\", description='LOCATION'), HTML(value=\"<b><font color='black'>300.0</b>\", description='PRICE'), HTML(value=\"<b><font color='black'>5.0</b>\", description='RATING')), layout=Layout(display='flex', flex_flow='column', justify_content='space-between', width='75%'))), layout=Layout(align_items='stretch', display='flex', flex_flow='row', justify_content='space-between')))), VBox(children=(HBox(children=(VBox(children=(HTML(value=\"<b><font color='orange'>MORNING</b>\"), HTML(value=\"<b><font color='purple'>Recommendation 1:</b>\"), Image(value=b'\\xff\\xd8\\xff\\xe0\\x00\\x10JFIF\\x00\\x01\\x01\\x01\\x00\\x01\\x00\\x01\\x00\\x00\\xff\\xe1\\x00\\x18Exif\\x00\\x00II*\\...', format='jpg', height='400', width='300'), HTML(value=\"<b><font color='black'>Niagara falls helicopter tour</b>\", description='NAME'), HTML(value=\"<b><font color='black'>Family friendly</b>\", description='CATEGORY'), HTML(value=\"<b><font color='black'>(43.1186027527,-79.0743865967)</b>\", description='LOCATION'), HTML(value=\"<b><font color='black'>145.0</b>\", description='PRICE'), HTML(value=\"<b><font color='black'>4.5</b>\", description='RATING')), layout=Layout(display='flex', flex_flow='column', justify_content='space-between', width='75%')), VBox(children=(HTML(value=\"<b><font color='orange'>EVENING</b>\"), HTML(value=\"<b><font color='purple'>Recommendation 1:</b>\"), Image(value=b'\\xff\\xd8\\xff\\xe0\\x00\\x10JFIF\\x00\\x01\\x01\\x01\\x00H\\x00H\\x00\\x00\\xff\\xdb\\x00C\\x00\\x08\\x06\\x06\\x07\\x06\\...', format='jpg', height='400', width='300'), HTML(value=\"<b><font color='black'>Friday night wine and cheese sail in toronto</b>\", description='NAME'), HTML(value=\"<b><font color='black'>Cruises, sailing & water tours</b>\", description='CATEGORY'), HTML(value=\"<b><font color='black'>(43.6375465393,-79.3912353516)</b>\", description='LOCATION'), HTML(value=\"<b><font color='black'>219.99</b>\", description='PRICE'), HTML(value=\"<b><font color='black'>5.0</b>\", description='RATING')), layout=Layout(display='flex', flex_flow='column', justify_content='space-between', width='75%'))), layout=Layout(align_items='stretch', display='flex', flex_flow='row', justify_content='space-between')), HBox(children=(VBox(children=(HTML(value=\"<b><font color='purple'>Recommendation 2:</b>\"), Image(value=b'\\xff\\xd8\\xff\\xe0\\x00\\x10JFIF\\x00\\x01\\x01\\x01\\x00H\\x00H\\x00\\x00\\xff\\xdb\\x00C\\x00\\x05\\x03\\x04\\x04\\x04\\...', format='jpg', height='400', width='300'), HTML(value=\"<b><font color='black'>Bird kingdom all day admission ticket</b>\", description='NAME'), HTML(value=\"<b><font color='black'>Outdoor activities</b>\", description='CATEGORY'), HTML(value=\"<b><font color='black'>(43.0926246643,-79.0687103271)</b>\", description='LOCATION'), HTML(value=\"<b><font color='black'>20.28</b>\", description='PRICE'), HTML(value=\"<b><font color='black'>4.5</b>\", description='RATING')), layout=Layout(display='flex', flex_flow='column', justify_content='space-between', width='75%')), VBox(children=(HTML(value=\"<b><font color='purple'>Recommendation 2:</b>\"), Image(value=b'\\xff\\xd8\\xff\\xe0\\x00\\x10JFIF\\x00\\x01\\x01\\x01\\x00H\\x00H\\x00\\x00\\xff\\xdb\\x00C\\x00\\x08\\x06\\x06\\x07\\x06\\...', format='jpg', height='400', width='300'), HTML(value=\"<b><font color='black'>Toronto islands evening bike tour</b>\", description='NAME'), HTML(value=\"<b><font color='black'>Walking & biking tours</b>\", description='CATEGORY'), HTML(value=\"<b><font color='black'>(43.6541595459,-79.3904876709)</b>\", description='LOCATION'), HTML(value=\"<b><font color='black'>96.05</b>\", description='PRICE'), HTML(value=\"<b><font color='black'>5.0</b>\", description='RATING')), layout=Layout(display='flex', flex_flow='column', justify_content='space-between', width='75%'))), layout=Layout(align_items='stretch', display='flex', flex_flow='row', justify_content='space-between'))))))\n"
     ]
    },
    {
     "data": {
      "application/vnd.jupyter.widget-view+json": {
       "model_id": "0a68e2849be646cf9f0bf6e1fcecd749",
       "version_major": 2,
       "version_minor": 0
      },
      "text/plain": [
       "Tab(children=(VBox(children=(HBox(children=(VBox(children=(HTML(value=\"<b><font color='orange'>MORNING</b>\"), …"
      ]
     },
     "metadata": {},
     "output_type": "display_data"
    }
   ],
   "source": [
    "days = 2 + 1\n",
    "display(final_output(days,final))"
   ]
  },
  {
   "cell_type": "code",
   "execution_count": 15,
   "metadata": {},
   "outputs": [
    {
     "name": "stdout",
     "output_type": "stream",
     "text": [
      "[VBox(children=(HBox(children=(VBox(children=(HTML(value=\"<b><font color='orange'>MORNING</b>\"), HTML(value=\"<b><font color='purple'>Recommendation 1:</b>\"), Image(value=b'\\xff\\xd8\\xff\\xe0\\x00\\x10JFIF\\x00\\x01\\x01\\x01\\x00H\\x00H\\x00\\x00\\xff\\xdb\\x00C\\x00\\x05\\x03\\x04\\x04\\x04\\...', format='jpg', height='400', width='300'), HTML(value=\"<b><font color='black'>Niagara falls in one day: deluxe sightseeing tour of american and canadian sides</b>\", description='NAME'), HTML(value=\"<b><font color='black'>Featured tours and tickets</b>\", description='CATEGORY'), HTML(value=\"<b><font color='black'>(43.1024360657,-78.9616394043)</b>\", description='LOCATION'), HTML(value=\"<b><font color='black'>204.42</b>\", description='PRICE'), HTML(value=\"<b><font color='black'>5.0</b>\", description='RATING')), layout=Layout(display='flex', flex_flow='column', justify_content='space-between', width='75%')), VBox(children=(HTML(value=\"<b><font color='orange'>EVENING</b>\"), HTML(value=\"<b><font color='purple'>Recommendation 1:</b>\"), Image(value=b'\\xff\\xd8\\xff\\xe0\\x00\\x10JFIF\\x00\\x01\\x01\\x01\\x00H\\x00H\\x00\\x00\\xff\\xdb\\x00C\\x00\\x05\\x03\\x04\\x04\\x04\\...', format='jpg', height='400', width='300'), HTML(value=\"<b><font color='black'>6-hour niagara falls canadian side evening illuminations tour</b>\", description='NAME'), HTML(value=\"<b><font color='black'>Cultural & theme tours</b>\", description='CATEGORY'), HTML(value=\"<b><font color='black'>(43.0823516846,-79.0411376953)</b>\", description='LOCATION'), HTML(value=\"<b><font color='black'>149.89</b>\", description='PRICE'), HTML(value=\"<b><font color='black'>5.0</b>\", description='RATING')), layout=Layout(display='flex', flex_flow='column', justify_content='space-between', width='75%'))), layout=Layout(align_items='stretch', display='flex', flex_flow='row', justify_content='space-between')), HBox(children=(VBox(children=(HTML(value=\"<b><font color='purple'>Recommendation 2:</b>\"), Image(value=b'\\xff\\xd8\\xff\\xe0\\x00\\x10JFIF\\x00\\x01\\x01\\x01\\x00H\\x00H\\x00\\x00\\xff\\xdb\\x00C\\x00\\x05\\x03\\x04\\x04\\x04\\...', format='jpg', height='400', width='300'), HTML(value=\"<b><font color='black'>Niagara falls canadian side tour and maid of the mist boat ride</b>\", description='NAME'), HTML(value=\"<b><font color='black'>Tours & sightseeing</b>\", description='CATEGORY'), HTML(value=\"<b><font color='black'>(43.1024360657,-78.9616394043)</b>\", description='LOCATION'), HTML(value=\"<b><font color='black'>149.89</b>\", description='PRICE'), HTML(value=\"<b><font color='black'>5.0</b>\", description='RATING')), layout=Layout(display='flex', flex_flow='column', justify_content='space-between', width='75%')), VBox(children=(HTML(value=\"<b><font color='purple'>Recommendation 2:</b>\"), Image(value=b'\\xff\\xd8\\xff\\xe0\\x00\\x10JFIF\\x00\\x01\\x01\\x01\\x00H\\x00H\\x00\\x00\\xff\\xdb\\x00C\\x00\\x05\\x03\\x04\\x04\\x04\\...', format='jpg', height='400', width='300'), HTML(value=\"<b><font color='black'>Epic toronto night tour</b>\", description='NAME'), HTML(value=\"<b><font color='black'>Tours & sightseeing</b>\", description='CATEGORY'), HTML(value=\"<b><font color='black'>(43.0857124329,-79.0824279785)</b>\", description='LOCATION'), HTML(value=\"<b><font color='black'>89.0</b>\", description='PRICE'), HTML(value=\"<b><font color='black'>4.5</b>\", description='RATING')), layout=Layout(display='flex', flex_flow='column', justify_content='space-between', width='75%'))), layout=Layout(align_items='stretch', display='flex', flex_flow='row', justify_content='space-between')))), VBox(children=(HBox(children=(VBox(children=(HTML(value=\"<b><font color='orange'>MORNING</b>\"), HTML(value=\"<b><font color='purple'>Recommendation 1:</b>\"), Image(value=b'\\xff\\xd8\\xff\\xe0\\x00\\x10JFIF\\x00\\x01\\x01\\x01\\x00H\\x00H\\x00\\x00\\xff\\xdb\\x00C\\x00\\x08\\x06\\x06\\x07\\x06\\...', format='jpg', height='400', width='300'), HTML(value=\"<b><font color='black'>Best of niagara falls tour from niagara falls, ontario</b>\", description='NAME'), HTML(value=\"<b><font color='black'>Tours & sightseeing</b>\", description='CATEGORY'), HTML(value=\"<b><font color='black'>(43.0857124329,-79.0824279785)</b>\", description='LOCATION'), HTML(value=\"<b><font color='black'>158.0</b>\", description='PRICE'), HTML(value=\"<b><font color='black'>5.0</b>\", description='RATING')), layout=Layout(display='flex', flex_flow='column', justify_content='space-between', width='75%')), VBox(children=(HTML(value=\"<b><font color='orange'>EVENING</b>\"), HTML(value=\"<b><font color='purple'>Recommendation 1:</b>\"), Image(value=b'\\xff\\xd8\\xff\\xe0\\x00\\x10JFIF\\x00\\x01\\x01\\x01\\x00H\\x00H\\x00\\x00\\xff\\xdb\\x00C\\x00\\x08\\x06\\x06\\x07\\x06\\...', format='jpg', height='400', width='300'), HTML(value=\"<b><font color='black'>Niagara falls night tour with dinner and cruise</b>\", description='NAME'), HTML(value=\"<b><font color='black'>Cruises, sailing & water tours</b>\", description='CATEGORY'), HTML(value=\"<b><font color='black'>(43.0857124329,-79.0824279785)</b>\", description='LOCATION'), HTML(value=\"<b><font color='black'>189.0</b>\", description='PRICE'), HTML(value=\"<b><font color='black'>4.5</b>\", description='RATING')), layout=Layout(display='flex', flex_flow='column', justify_content='space-between', width='75%'))), layout=Layout(align_items='stretch', display='flex', flex_flow='row', justify_content='space-between')), HBox(children=(VBox(children=(HTML(value=\"<b><font color='purple'>Recommendation 2:</b>\"), Image(value=b'\\xff\\xd8\\xff\\xe0\\x00\\x10JFIF\\x00\\x01\\x01\\x01\\x00H\\x00H\\x00\\x00\\xff\\xdb\\x00C\\x00\\x05\\x03\\x04\\x04\\x04\\...', format='jpg', height='400', width='300'), HTML(value=\"<b><font color='black'>Ultimate toronto tour</b>\", description='NAME'), HTML(value=\"<b><font color='black'>Tours & sightseeing</b>\", description='CATEGORY'), HTML(value=\"<b><font color='black'>(43.0857124329,-79.0824279785)</b>\", description='LOCATION'), HTML(value=\"<b><font color='black'>175.0</b>\", description='PRICE'), HTML(value=\"<b><font color='black'>5.0</b>\", description='RATING')), layout=Layout(display='flex', flex_flow='column', justify_content='space-between', width='75%')), VBox(children=(HTML(value=\"<b><font color='purple'>Recommendation 2:</b>\"), Image(value=b'\\xff\\xd8\\xff\\xe0\\x00\\x10JFIF\\x00\\x01\\x01\\x01\\x00H\\x00H\\x00\\x00\\xff\\xdb\\x00C\\x00\\x08\\x06\\x06\\x07\\x06\\...', format='jpg', height='400', width='300'), HTML(value=\"<b><font color='black'>Day and night tour of niagara falls</b>\", description='NAME'), HTML(value=\"<b><font color='black'>Tours & sightseeing</b>\", description='CATEGORY'), HTML(value=\"<b><font color='black'>(43.0857124329,-79.0824279785)</b>\", description='LOCATION'), HTML(value=\"<b><font color='black'>300.0</b>\", description='PRICE'), HTML(value=\"<b><font color='black'>5.0</b>\", description='RATING')), layout=Layout(display='flex', flex_flow='column', justify_content='space-between', width='75%'))), layout=Layout(align_items='stretch', display='flex', flex_flow='row', justify_content='space-between')))), VBox(children=(HBox(children=(VBox(children=(HTML(value=\"<b><font color='orange'>MORNING</b>\"), HTML(value=\"<b><font color='purple'>Recommendation 1:</b>\"), Image(value=b'\\xff\\xd8\\xff\\xe0\\x00\\x10JFIF\\x00\\x01\\x01\\x01\\x00\\x01\\x00\\x01\\x00\\x00\\xff\\xe1\\x00\\x18Exif\\x00\\x00II*\\...', format='jpg', height='400', width='300'), HTML(value=\"<b><font color='black'>Niagara falls helicopter tour</b>\", description='NAME'), HTML(value=\"<b><font color='black'>Family friendly</b>\", description='CATEGORY'), HTML(value=\"<b><font color='black'>(43.1186027527,-79.0743865967)</b>\", description='LOCATION'), HTML(value=\"<b><font color='black'>145.0</b>\", description='PRICE'), HTML(value=\"<b><font color='black'>4.5</b>\", description='RATING')), layout=Layout(display='flex', flex_flow='column', justify_content='space-between', width='75%')), VBox(children=(HTML(value=\"<b><font color='orange'>EVENING</b>\"), HTML(value=\"<b><font color='purple'>Recommendation 1:</b>\"), Image(value=b'\\xff\\xd8\\xff\\xe0\\x00\\x10JFIF\\x00\\x01\\x01\\x01\\x00H\\x00H\\x00\\x00\\xff\\xdb\\x00C\\x00\\x08\\x06\\x06\\x07\\x06\\...', format='jpg', height='400', width='300'), HTML(value=\"<b><font color='black'>Friday night wine and cheese sail in toronto</b>\", description='NAME'), HTML(value=\"<b><font color='black'>Cruises, sailing & water tours</b>\", description='CATEGORY'), HTML(value=\"<b><font color='black'>(43.6375465393,-79.3912353516)</b>\", description='LOCATION'), HTML(value=\"<b><font color='black'>219.99</b>\", description='PRICE'), HTML(value=\"<b><font color='black'>5.0</b>\", description='RATING')), layout=Layout(display='flex', flex_flow='column', justify_content='space-between', width='75%'))), layout=Layout(align_items='stretch', display='flex', flex_flow='row', justify_content='space-between')), HBox(children=(VBox(children=(HTML(value=\"<b><font color='purple'>Recommendation 2:</b>\"), Image(value=b'\\xff\\xd8\\xff\\xe0\\x00\\x10JFIF\\x00\\x01\\x01\\x01\\x00H\\x00H\\x00\\x00\\xff\\xdb\\x00C\\x00\\x05\\x03\\x04\\x04\\x04\\...', format='jpg', height='400', width='300'), HTML(value=\"<b><font color='black'>Bird kingdom all day admission ticket</b>\", description='NAME'), HTML(value=\"<b><font color='black'>Outdoor activities</b>\", description='CATEGORY'), HTML(value=\"<b><font color='black'>(43.0926246643,-79.0687103271)</b>\", description='LOCATION'), HTML(value=\"<b><font color='black'>20.28</b>\", description='PRICE'), HTML(value=\"<b><font color='black'>4.5</b>\", description='RATING')), layout=Layout(display='flex', flex_flow='column', justify_content='space-between', width='75%')), VBox(children=(HTML(value=\"<b><font color='purple'>Recommendation 2:</b>\"), Image(value=b'\\xff\\xd8\\xff\\xe0\\x00\\x10JFIF\\x00\\x01\\x01\\x01\\x00H\\x00H\\x00\\x00\\xff\\xdb\\x00C\\x00\\x08\\x06\\x06\\x07\\x06\\...', format='jpg', height='400', width='300'), HTML(value=\"<b><font color='black'>Toronto islands evening bike tour</b>\", description='NAME'), HTML(value=\"<b><font color='black'>Walking & biking tours</b>\", description='CATEGORY'), HTML(value=\"<b><font color='black'>(43.6541595459,-79.3904876709)</b>\", description='LOCATION'), HTML(value=\"<b><font color='black'>96.05</b>\", description='PRICE'), HTML(value=\"<b><font color='black'>5.0</b>\", description='RATING')), layout=Layout(display='flex', flex_flow='column', justify_content='space-between', width='75%'))), layout=Layout(align_items='stretch', display='flex', flex_flow='row', justify_content='space-between')))), VBox(children=(HBox(children=(VBox(children=(HTML(value=\"<b><font color='orange'>MORNING</b>\"), HTML(value=\"<b><font color='purple'>Recommendation 1:</b>\"), Image(value=b'\\xff\\xd8\\xff\\xe0\\x00\\x10JFIF\\x00\\x01\\x01\\x00\\x00\\x01\\x00\\x01\\x00\\x00\\xff\\xfe\\x00;CREATOR: gd-jpeg v1...', format='jpg', height='400', width='300'), HTML(value=\"<b><font color='black'>Niagara falls day tour from toronto</b>\", description='NAME'), HTML(value=\"<b><font color='black'>Recommended experiences</b>\", description='CATEGORY'), HTML(value=\"<b><font color='black'>(43.7030754089,-79.4063873291)</b>\", description='LOCATION'), HTML(value=\"<b><font color='black'>94.92</b>\", description='PRICE'), HTML(value=\"<b><font color='black'>5.0</b>\", description='RATING')), layout=Layout(display='flex', flex_flow='column', justify_content='space-between', width='75%')), VBox(children=(HTML(value=\"<b><font color='orange'>EVENING</b>\"), HTML(value=\"<b><font color='purple'>Recommendation 1:</b>\"), Image(value=b'\\xff\\xd8\\xff\\xe0\\x00\\x10JFIF\\x00\\x01\\x01\\x00\\x00\\x01\\x00\\x01\\x00\\x00\\xff\\xfe\\x00;CREATOR: gd-jpeg v1...', format='jpg', height='400', width='300'), HTML(value=\"<b><font color='black'>Niagara falls evening lights day trip from toronto</b>\", description='NAME'), HTML(value=\"<b><font color='black'>Recommended experiences</b>\", description='CATEGORY'), HTML(value=\"<b><font color='black'>(43.6561508179,-79.384262085)</b>\", description='LOCATION'), HTML(value=\"<b><font color='black'>180.0</b>\", description='PRICE'), HTML(value=\"<b><font color='black'>4.5</b>\", description='RATING')), layout=Layout(display='flex', flex_flow='column', justify_content='space-between', width='75%'))), layout=Layout(align_items='stretch', display='flex', flex_flow='row', justify_content='space-between')), HBox(children=(VBox(children=(HTML(value=\"<b><font color='purple'>Recommendation 2:</b>\"), Image(value=b'\\x89PNG\\r\\n\\x1a\\n\\x00\\x00\\x00\\rIHDR\\x00\\x00\\x02l\\x00\\x00\\x01\\x13\\x08\\x02\\x00\\x00\\x00\\x04k\\xcd\\xfb\\x0...', format='jpg', height='400', width='300'), HTML(value=\"<b><font color='black'>Full-day niagara winery tour from toronto</b>\", description='NAME'), HTML(value=\"<b><font color='black'>Tours & sightseeing</b>\", description='CATEGORY'), HTML(value=\"<b><font color='black'>(43.7030754089,-79.4063873291)</b>\", description='LOCATION'), HTML(value=\"<b><font color='black'>99.0</b>\", description='PRICE'), HTML(value=\"<b><font color='black'>4.5</b>\", description='RATING')), layout=Layout(display='flex', flex_flow='column', justify_content='space-between', width='75%')), VBox(children=(HTML(value=\"<b><font color='purple'>Recommendation 2:</b>\"), Image(value=b'\\xff\\xd8\\xff\\xe0\\x00\\x10JFIF\\x00\\x01\\x01\\x01\\x00H\\x00H\\x00\\x00\\xff\\xdb\\x00C\\x00\\x05\\x03\\x04\\x04\\x04\\...', format='jpg', height='400', width='300'), HTML(value=\"<b><font color='black'>Niagara falls day and evening tour with boat cruise and optional fallsview dinner</b>\", description='NAME'), HTML(value=\"<b><font color='black'>Family friendly</b>\", description='CATEGORY'), HTML(value=\"<b><font color='black'>(43.6837425232,-79.5929107666)</b>\", description='LOCATION'), HTML(value=\"<b><font color='black'>169.0</b>\", description='PRICE'), HTML(value=\"<b><font color='black'>4.5</b>\", description='RATING')), layout=Layout(display='flex', flex_flow='column', justify_content='space-between', width='75%'))), layout=Layout(align_items='stretch', display='flex', flex_flow='row', justify_content='space-between'))))]\n",
      "Tab(children=(VBox(children=(HBox(children=(VBox(children=(HTML(value=\"<b><font color='orange'>MORNING</b>\"), HTML(value=\"<b><font color='purple'>Recommendation 1:</b>\"), Image(value=b'\\xff\\xd8\\xff\\xe0\\x00\\x10JFIF\\x00\\x01\\x01\\x01\\x00H\\x00H\\x00\\x00\\xff\\xdb\\x00C\\x00\\x05\\x03\\x04\\x04\\x04\\...', format='jpg', height='400', width='300'), HTML(value=\"<b><font color='black'>Niagara falls in one day: deluxe sightseeing tour of american and canadian sides</b>\", description='NAME'), HTML(value=\"<b><font color='black'>Featured tours and tickets</b>\", description='CATEGORY'), HTML(value=\"<b><font color='black'>(43.1024360657,-78.9616394043)</b>\", description='LOCATION'), HTML(value=\"<b><font color='black'>204.42</b>\", description='PRICE'), HTML(value=\"<b><font color='black'>5.0</b>\", description='RATING')), layout=Layout(display='flex', flex_flow='column', justify_content='space-between', width='75%')), VBox(children=(HTML(value=\"<b><font color='orange'>EVENING</b>\"), HTML(value=\"<b><font color='purple'>Recommendation 1:</b>\"), Image(value=b'\\xff\\xd8\\xff\\xe0\\x00\\x10JFIF\\x00\\x01\\x01\\x01\\x00H\\x00H\\x00\\x00\\xff\\xdb\\x00C\\x00\\x05\\x03\\x04\\x04\\x04\\...', format='jpg', height='400', width='300'), HTML(value=\"<b><font color='black'>6-hour niagara falls canadian side evening illuminations tour</b>\", description='NAME'), HTML(value=\"<b><font color='black'>Cultural & theme tours</b>\", description='CATEGORY'), HTML(value=\"<b><font color='black'>(43.0823516846,-79.0411376953)</b>\", description='LOCATION'), HTML(value=\"<b><font color='black'>149.89</b>\", description='PRICE'), HTML(value=\"<b><font color='black'>5.0</b>\", description='RATING')), layout=Layout(display='flex', flex_flow='column', justify_content='space-between', width='75%'))), layout=Layout(align_items='stretch', display='flex', flex_flow='row', justify_content='space-between')), HBox(children=(VBox(children=(HTML(value=\"<b><font color='purple'>Recommendation 2:</b>\"), Image(value=b'\\xff\\xd8\\xff\\xe0\\x00\\x10JFIF\\x00\\x01\\x01\\x01\\x00H\\x00H\\x00\\x00\\xff\\xdb\\x00C\\x00\\x05\\x03\\x04\\x04\\x04\\...', format='jpg', height='400', width='300'), HTML(value=\"<b><font color='black'>Niagara falls canadian side tour and maid of the mist boat ride</b>\", description='NAME'), HTML(value=\"<b><font color='black'>Tours & sightseeing</b>\", description='CATEGORY'), HTML(value=\"<b><font color='black'>(43.1024360657,-78.9616394043)</b>\", description='LOCATION'), HTML(value=\"<b><font color='black'>149.89</b>\", description='PRICE'), HTML(value=\"<b><font color='black'>5.0</b>\", description='RATING')), layout=Layout(display='flex', flex_flow='column', justify_content='space-between', width='75%')), VBox(children=(HTML(value=\"<b><font color='purple'>Recommendation 2:</b>\"), Image(value=b'\\xff\\xd8\\xff\\xe0\\x00\\x10JFIF\\x00\\x01\\x01\\x01\\x00H\\x00H\\x00\\x00\\xff\\xdb\\x00C\\x00\\x05\\x03\\x04\\x04\\x04\\...', format='jpg', height='400', width='300'), HTML(value=\"<b><font color='black'>Epic toronto night tour</b>\", description='NAME'), HTML(value=\"<b><font color='black'>Tours & sightseeing</b>\", description='CATEGORY'), HTML(value=\"<b><font color='black'>(43.0857124329,-79.0824279785)</b>\", description='LOCATION'), HTML(value=\"<b><font color='black'>89.0</b>\", description='PRICE'), HTML(value=\"<b><font color='black'>4.5</b>\", description='RATING')), layout=Layout(display='flex', flex_flow='column', justify_content='space-between', width='75%'))), layout=Layout(align_items='stretch', display='flex', flex_flow='row', justify_content='space-between')))), VBox(children=(HBox(children=(VBox(children=(HTML(value=\"<b><font color='orange'>MORNING</b>\"), HTML(value=\"<b><font color='purple'>Recommendation 1:</b>\"), Image(value=b'\\xff\\xd8\\xff\\xe0\\x00\\x10JFIF\\x00\\x01\\x01\\x01\\x00H\\x00H\\x00\\x00\\xff\\xdb\\x00C\\x00\\x08\\x06\\x06\\x07\\x06\\...', format='jpg', height='400', width='300'), HTML(value=\"<b><font color='black'>Best of niagara falls tour from niagara falls, ontario</b>\", description='NAME'), HTML(value=\"<b><font color='black'>Tours & sightseeing</b>\", description='CATEGORY'), HTML(value=\"<b><font color='black'>(43.0857124329,-79.0824279785)</b>\", description='LOCATION'), HTML(value=\"<b><font color='black'>158.0</b>\", description='PRICE'), HTML(value=\"<b><font color='black'>5.0</b>\", description='RATING')), layout=Layout(display='flex', flex_flow='column', justify_content='space-between', width='75%')), VBox(children=(HTML(value=\"<b><font color='orange'>EVENING</b>\"), HTML(value=\"<b><font color='purple'>Recommendation 1:</b>\"), Image(value=b'\\xff\\xd8\\xff\\xe0\\x00\\x10JFIF\\x00\\x01\\x01\\x01\\x00H\\x00H\\x00\\x00\\xff\\xdb\\x00C\\x00\\x08\\x06\\x06\\x07\\x06\\...', format='jpg', height='400', width='300'), HTML(value=\"<b><font color='black'>Niagara falls night tour with dinner and cruise</b>\", description='NAME'), HTML(value=\"<b><font color='black'>Cruises, sailing & water tours</b>\", description='CATEGORY'), HTML(value=\"<b><font color='black'>(43.0857124329,-79.0824279785)</b>\", description='LOCATION'), HTML(value=\"<b><font color='black'>189.0</b>\", description='PRICE'), HTML(value=\"<b><font color='black'>4.5</b>\", description='RATING')), layout=Layout(display='flex', flex_flow='column', justify_content='space-between', width='75%'))), layout=Layout(align_items='stretch', display='flex', flex_flow='row', justify_content='space-between')), HBox(children=(VBox(children=(HTML(value=\"<b><font color='purple'>Recommendation 2:</b>\"), Image(value=b'\\xff\\xd8\\xff\\xe0\\x00\\x10JFIF\\x00\\x01\\x01\\x01\\x00H\\x00H\\x00\\x00\\xff\\xdb\\x00C\\x00\\x05\\x03\\x04\\x04\\x04\\...', format='jpg', height='400', width='300'), HTML(value=\"<b><font color='black'>Ultimate toronto tour</b>\", description='NAME'), HTML(value=\"<b><font color='black'>Tours & sightseeing</b>\", description='CATEGORY'), HTML(value=\"<b><font color='black'>(43.0857124329,-79.0824279785)</b>\", description='LOCATION'), HTML(value=\"<b><font color='black'>175.0</b>\", description='PRICE'), HTML(value=\"<b><font color='black'>5.0</b>\", description='RATING')), layout=Layout(display='flex', flex_flow='column', justify_content='space-between', width='75%')), VBox(children=(HTML(value=\"<b><font color='purple'>Recommendation 2:</b>\"), Image(value=b'\\xff\\xd8\\xff\\xe0\\x00\\x10JFIF\\x00\\x01\\x01\\x01\\x00H\\x00H\\x00\\x00\\xff\\xdb\\x00C\\x00\\x08\\x06\\x06\\x07\\x06\\...', format='jpg', height='400', width='300'), HTML(value=\"<b><font color='black'>Day and night tour of niagara falls</b>\", description='NAME'), HTML(value=\"<b><font color='black'>Tours & sightseeing</b>\", description='CATEGORY'), HTML(value=\"<b><font color='black'>(43.0857124329,-79.0824279785)</b>\", description='LOCATION'), HTML(value=\"<b><font color='black'>300.0</b>\", description='PRICE'), HTML(value=\"<b><font color='black'>5.0</b>\", description='RATING')), layout=Layout(display='flex', flex_flow='column', justify_content='space-between', width='75%'))), layout=Layout(align_items='stretch', display='flex', flex_flow='row', justify_content='space-between')))), VBox(children=(HBox(children=(VBox(children=(HTML(value=\"<b><font color='orange'>MORNING</b>\"), HTML(value=\"<b><font color='purple'>Recommendation 1:</b>\"), Image(value=b'\\xff\\xd8\\xff\\xe0\\x00\\x10JFIF\\x00\\x01\\x01\\x01\\x00\\x01\\x00\\x01\\x00\\x00\\xff\\xe1\\x00\\x18Exif\\x00\\x00II*\\...', format='jpg', height='400', width='300'), HTML(value=\"<b><font color='black'>Niagara falls helicopter tour</b>\", description='NAME'), HTML(value=\"<b><font color='black'>Family friendly</b>\", description='CATEGORY'), HTML(value=\"<b><font color='black'>(43.1186027527,-79.0743865967)</b>\", description='LOCATION'), HTML(value=\"<b><font color='black'>145.0</b>\", description='PRICE'), HTML(value=\"<b><font color='black'>4.5</b>\", description='RATING')), layout=Layout(display='flex', flex_flow='column', justify_content='space-between', width='75%')), VBox(children=(HTML(value=\"<b><font color='orange'>EVENING</b>\"), HTML(value=\"<b><font color='purple'>Recommendation 1:</b>\"), Image(value=b'\\xff\\xd8\\xff\\xe0\\x00\\x10JFIF\\x00\\x01\\x01\\x01\\x00H\\x00H\\x00\\x00\\xff\\xdb\\x00C\\x00\\x08\\x06\\x06\\x07\\x06\\...', format='jpg', height='400', width='300'), HTML(value=\"<b><font color='black'>Friday night wine and cheese sail in toronto</b>\", description='NAME'), HTML(value=\"<b><font color='black'>Cruises, sailing & water tours</b>\", description='CATEGORY'), HTML(value=\"<b><font color='black'>(43.6375465393,-79.3912353516)</b>\", description='LOCATION'), HTML(value=\"<b><font color='black'>219.99</b>\", description='PRICE'), HTML(value=\"<b><font color='black'>5.0</b>\", description='RATING')), layout=Layout(display='flex', flex_flow='column', justify_content='space-between', width='75%'))), layout=Layout(align_items='stretch', display='flex', flex_flow='row', justify_content='space-between')), HBox(children=(VBox(children=(HTML(value=\"<b><font color='purple'>Recommendation 2:</b>\"), Image(value=b'\\xff\\xd8\\xff\\xe0\\x00\\x10JFIF\\x00\\x01\\x01\\x01\\x00H\\x00H\\x00\\x00\\xff\\xdb\\x00C\\x00\\x05\\x03\\x04\\x04\\x04\\...', format='jpg', height='400', width='300'), HTML(value=\"<b><font color='black'>Bird kingdom all day admission ticket</b>\", description='NAME'), HTML(value=\"<b><font color='black'>Outdoor activities</b>\", description='CATEGORY'), HTML(value=\"<b><font color='black'>(43.0926246643,-79.0687103271)</b>\", description='LOCATION'), HTML(value=\"<b><font color='black'>20.28</b>\", description='PRICE'), HTML(value=\"<b><font color='black'>4.5</b>\", description='RATING')), layout=Layout(display='flex', flex_flow='column', justify_content='space-between', width='75%')), VBox(children=(HTML(value=\"<b><font color='purple'>Recommendation 2:</b>\"), Image(value=b'\\xff\\xd8\\xff\\xe0\\x00\\x10JFIF\\x00\\x01\\x01\\x01\\x00H\\x00H\\x00\\x00\\xff\\xdb\\x00C\\x00\\x08\\x06\\x06\\x07\\x06\\...', format='jpg', height='400', width='300'), HTML(value=\"<b><font color='black'>Toronto islands evening bike tour</b>\", description='NAME'), HTML(value=\"<b><font color='black'>Walking & biking tours</b>\", description='CATEGORY'), HTML(value=\"<b><font color='black'>(43.6541595459,-79.3904876709)</b>\", description='LOCATION'), HTML(value=\"<b><font color='black'>96.05</b>\", description='PRICE'), HTML(value=\"<b><font color='black'>5.0</b>\", description='RATING')), layout=Layout(display='flex', flex_flow='column', justify_content='space-between', width='75%'))), layout=Layout(align_items='stretch', display='flex', flex_flow='row', justify_content='space-between')))), VBox(children=(HBox(children=(VBox(children=(HTML(value=\"<b><font color='orange'>MORNING</b>\"), HTML(value=\"<b><font color='purple'>Recommendation 1:</b>\"), Image(value=b'\\xff\\xd8\\xff\\xe0\\x00\\x10JFIF\\x00\\x01\\x01\\x00\\x00\\x01\\x00\\x01\\x00\\x00\\xff\\xfe\\x00;CREATOR: gd-jpeg v1...', format='jpg', height='400', width='300'), HTML(value=\"<b><font color='black'>Niagara falls day tour from toronto</b>\", description='NAME'), HTML(value=\"<b><font color='black'>Recommended experiences</b>\", description='CATEGORY'), HTML(value=\"<b><font color='black'>(43.7030754089,-79.4063873291)</b>\", description='LOCATION'), HTML(value=\"<b><font color='black'>94.92</b>\", description='PRICE'), HTML(value=\"<b><font color='black'>5.0</b>\", description='RATING')), layout=Layout(display='flex', flex_flow='column', justify_content='space-between', width='75%')), VBox(children=(HTML(value=\"<b><font color='orange'>EVENING</b>\"), HTML(value=\"<b><font color='purple'>Recommendation 1:</b>\"), Image(value=b'\\xff\\xd8\\xff\\xe0\\x00\\x10JFIF\\x00\\x01\\x01\\x00\\x00\\x01\\x00\\x01\\x00\\x00\\xff\\xfe\\x00;CREATOR: gd-jpeg v1...', format='jpg', height='400', width='300'), HTML(value=\"<b><font color='black'>Niagara falls evening lights day trip from toronto</b>\", description='NAME'), HTML(value=\"<b><font color='black'>Recommended experiences</b>\", description='CATEGORY'), HTML(value=\"<b><font color='black'>(43.6561508179,-79.384262085)</b>\", description='LOCATION'), HTML(value=\"<b><font color='black'>180.0</b>\", description='PRICE'), HTML(value=\"<b><font color='black'>4.5</b>\", description='RATING')), layout=Layout(display='flex', flex_flow='column', justify_content='space-between', width='75%'))), layout=Layout(align_items='stretch', display='flex', flex_flow='row', justify_content='space-between')), HBox(children=(VBox(children=(HTML(value=\"<b><font color='purple'>Recommendation 2:</b>\"), Image(value=b'\\x89PNG\\r\\n\\x1a\\n\\x00\\x00\\x00\\rIHDR\\x00\\x00\\x02l\\x00\\x00\\x01\\x13\\x08\\x02\\x00\\x00\\x00\\x04k\\xcd\\xfb\\x0...', format='jpg', height='400', width='300'), HTML(value=\"<b><font color='black'>Full-day niagara winery tour from toronto</b>\", description='NAME'), HTML(value=\"<b><font color='black'>Tours & sightseeing</b>\", description='CATEGORY'), HTML(value=\"<b><font color='black'>(43.7030754089,-79.4063873291)</b>\", description='LOCATION'), HTML(value=\"<b><font color='black'>99.0</b>\", description='PRICE'), HTML(value=\"<b><font color='black'>4.5</b>\", description='RATING')), layout=Layout(display='flex', flex_flow='column', justify_content='space-between', width='75%')), VBox(children=(HTML(value=\"<b><font color='purple'>Recommendation 2:</b>\"), Image(value=b'\\xff\\xd8\\xff\\xe0\\x00\\x10JFIF\\x00\\x01\\x01\\x01\\x00H\\x00H\\x00\\x00\\xff\\xdb\\x00C\\x00\\x05\\x03\\x04\\x04\\x04\\...', format='jpg', height='400', width='300'), HTML(value=\"<b><font color='black'>Niagara falls day and evening tour with boat cruise and optional fallsview dinner</b>\", description='NAME'), HTML(value=\"<b><font color='black'>Family friendly</b>\", description='CATEGORY'), HTML(value=\"<b><font color='black'>(43.6837425232,-79.5929107666)</b>\", description='LOCATION'), HTML(value=\"<b><font color='black'>169.0</b>\", description='PRICE'), HTML(value=\"<b><font color='black'>4.5</b>\", description='RATING')), layout=Layout(display='flex', flex_flow='column', justify_content='space-between', width='75%'))), layout=Layout(align_items='stretch', display='flex', flex_flow='row', justify_content='space-between'))))))\n"
     ]
    },
    {
     "data": {
      "application/vnd.jupyter.widget-view+json": {
       "model_id": "897ddb49090f4f30b5a7de532ded0405",
       "version_major": 2,
       "version_minor": 0
      },
      "text/plain": [
       "Tab(children=(VBox(children=(HBox(children=(VBox(children=(HTML(value=\"<b><font color='orange'>MORNING</b>\"), …"
      ]
     },
     "metadata": {},
     "output_type": "display_data"
    }
   ],
   "source": [
    "final_output(days,final)"
   ]
  },
  {
   "cell_type": "code",
   "execution_count": null,
   "metadata": {},
   "outputs": [],
   "source": []
  }
 ],
 "metadata": {
  "hide_input": false,
  "kernelspec": {
   "display_name": "Python 3 (ipykernel)",
   "language": "python",
   "name": "python3"
  },
  "language_info": {
   "codemirror_mode": {
    "name": "ipython",
    "version": 3
   },
   "file_extension": ".py",
   "mimetype": "text/x-python",
   "name": "python",
   "nbconvert_exporter": "python",
   "pygments_lexer": "ipython3",
   "version": "3.8.10"
  }
 },
 "nbformat": 4,
 "nbformat_minor": 2
}
